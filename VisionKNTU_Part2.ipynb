{
  "nbformat": 4,
  "nbformat_minor": 0,
  "metadata": {
    "accelerator": "GPU",
    "colab": {
      "name": "VisionKNTU_Part2.ipynb",
      "provenance": [],
      "collapsed_sections": []
    },
    "kernelspec": {
      "display_name": "Python 3",
      "name": "python3"
    }
  },
  "cells": [
    {
      "cell_type": "code",
      "metadata": {
        "colab": {
          "base_uri": "https://localhost:8080/"
        },
        "id": "OUL27_YBH7LS",
        "outputId": "8d59438a-f9ab-43a1-9100-6e6ab6f1d03f"
      },
      "source": [
        "from google.colab import drive\n",
        "drive.mount('/content/drive')"
      ],
      "execution_count": 2,
      "outputs": [
        {
          "output_type": "stream",
          "text": [
            "Mounted at /content/drive\n"
          ],
          "name": "stdout"
        }
      ]
    },
    {
      "cell_type": "code",
      "metadata": {
        "id": "Y0DGgQtsLuJc"
      },
      "source": [
        "%tensorflow_version 1.x\n",
        "import cv2\n",
        "import numpy as np\n",
        "import tensorflow as tf\n",
        "import pickle \n",
        "\n",
        "from keras.datasets import mnist\n",
        "from keras.layers import Input, Dense,Activation, Conv2D, AveragePooling2D, Flatten, Dropout\n",
        "from keras.models import Model\n",
        "from keras.utils import to_categorical\n",
        "from keras.preprocessing.image import ImageDataGenerator\n",
        "\n",
        "from sklearn.model_selection import train_test_split\n",
        "import matplotlib.pyplot as plt\n",
        "get_ipython().magic(u'matplotlib inline')\n",
        "\n",
        "\n"
      ],
      "execution_count": 30,
      "outputs": []
    },
    {
      "cell_type": "code",
      "metadata": {
        "id": "cK0I8XEL5jP3"
      },
      "source": [
        "def load_dataset():\n",
        "\n",
        "  pickle_X_train = open(\"/content/drive/MyDrive/Colab Notebooks/train_x.pickle\", \"rb\")\n",
        "  pickle_X_test = open(\"/content/drive/MyDrive/Colab Notebooks/test_x.pickle\", \"rb\")\n",
        "  pickle_Y_train = open(\"/content/drive/MyDrive/Colab Notebooks/train_y.pickle\", \"rb\")\n",
        "  pickle_Y_test = open(\"/content/drive/MyDrive/Colab Notebooks/test_y.pickle\", \"rb\")\n",
        "\n",
        "  X = pickle.load(pickle_X_train)\n",
        "  X_test = pickle.load(pickle_X_test)\n",
        "  Y = pickle.load(pickle_Y_train)\n",
        "  Y_test = pickle.load(pickle_Y_test)\n",
        "\n",
        "  pickle_X_train.close()\n",
        "  pickle_Y_train.close()\n",
        "  pickle_X_test.close()\n",
        "  pickle_Y_test.close()\n",
        "  return (X, Y), (X_test, Y_test)\n",
        "\n",
        "def load_dataset_train():\n",
        "\n",
        "  pickle_X_train = open(\"/content/drive/MyDrive/Colab Notebooks/train_x.pickle\", \"rb\")\n",
        "  pickle_Y_train = open(\"/content/drive/MyDrive/Colab Notebooks/train_y.pickle\", \"rb\")\n",
        "\n",
        "  X = pickle.load(pickle_X_train)\n",
        "  Y = pickle.load(pickle_Y_train)\n",
        "\n",
        "  pickle_X_train.close()\n",
        "  pickle_Y_train.close()\n",
        "  return (X, Y)"
      ],
      "execution_count": 31,
      "outputs": []
    },
    {
      "cell_type": "code",
      "metadata": {
        "colab": {
          "base_uri": "https://localhost:8080/"
        },
        "id": "lam3G3W3LA09",
        "outputId": "9c1096e6-95cc-46a4-83d8-0f60640ddd25"
      },
      "source": [
        "(x_train, y_train) = load_dataset_train()\n",
        "train_x, test_x, train_y, test_y  = train_test_split(x_train, y_train , test_size=0.1, shuffle=True, random_state=5)\n",
        "image_size = x_train.shape[1]\n",
        "\n",
        "x_train = x_train.astype('float32')/255\n",
        "test_x = test_x.astype('float32')/255\n",
        "print(x_train.shape)"
      ],
      "execution_count": 32,
      "outputs": [
        {
          "output_type": "stream",
          "text": [
            "(3684, 200, 200, 3)\n"
          ],
          "name": "stdout"
        }
      ]
    },
    {
      "cell_type": "code",
      "metadata": {
        "id": "k1IAJk3ZLBEN"
      },
      "source": [
        "# x_train = x_train.reshape((-1,28,28,1))\n",
        "# x_test = x_test.reshape((-1,28,28,1))\n",
        "train_y = to_categorical(train_y)\n",
        "test_y = to_categorical(test_y)"
      ],
      "execution_count": 34,
      "outputs": []
    },
    {
      "cell_type": "code",
      "metadata": {
        "colab": {
          "base_uri": "https://localhost:8080/"
        },
        "id": "BBqWmIeNqmdr",
        "outputId": "42c9c0fc-1c13-45fb-feab-31a2b24bb4a6"
      },
      "source": [
        "print(\"train_x shape is {}\".format( train_x.shape ))\n",
        "print(\"train_y shape is {}\".format( train_y.shape ))\n",
        "print(\"test_x shape is {}\".format( test_x.shape ))\n",
        "print(\"test_y shape is {}\".format( test_y.shape ))"
      ],
      "execution_count": 35,
      "outputs": [
        {
          "output_type": "stream",
          "text": [
            "train_x shape is (3315, 200, 200, 3)\n",
            "train_y shape is (3315, 3)\n",
            "test_x shape is (369, 200, 200, 3)\n",
            "test_y shape is (369, 3)\n"
          ],
          "name": "stdout"
        }
      ]
    },
    {
      "cell_type": "code",
      "metadata": {
        "id": "LzoQ29Tyoao4"
      },
      "source": [
        "def build_model(input_shape):\n",
        "  \n",
        "  x_input = Input(shape =input_shape,name = 'input')\n",
        "\n",
        "  x = Conv2D(filters = 6,kernel_size = 5, strides = 1, padding = 'valid',name = 'conv1')(x_input)\n",
        "  x = Activation('relu', name = 'relu_1')(x)\n",
        "  x = AveragePooling2D(pool_size =2,strides = 2,name = 'pad1')(x)\n",
        "\n",
        "  x = Conv2D(filters = 16,kernel_size = (2,2), strides = 1, padding = 'valid',name = 'conv2')(x_input)\n",
        "  x = Activation('relu', name = 'relu_2')(x)\n",
        "  x = AveragePooling2D(pool_size =2,strides = 2,name = 'pad2')(x)\n",
        "\n",
        "  x = Flatten()(x)\n",
        "\n",
        "  x = Dense(units = 120, name = 'fc_1')(x)\n",
        "\n",
        "  x = Activation('relu', name = 'relu_3')(x)\n",
        "  # x = Dropout(rate = 0.3)\n",
        "\n",
        "  x = Dense(units = 84, name = 'fc_2')(x)\n",
        "  x = Activation('relu', name = 'relu_4')(x)\n",
        "  # x = Dropout(rate = 0.3)\n",
        "\n",
        "\n",
        "  outputs = Dense(units = 3,name = 'softmax', activation='softmax')(x)\n",
        "  \n",
        "  model = Model(inputs = x_input, outputs = outputs)\n",
        "  model.summary()\n",
        "\n",
        "  return model\n",
        "  "
      ],
      "execution_count": 36,
      "outputs": []
    },
    {
      "cell_type": "code",
      "metadata": {
        "colab": {
          "base_uri": "https://localhost:8080/"
        },
        "id": "QX1sXm45VFck",
        "outputId": "7402ecb1-92cc-48fb-d5c3-7d47b379dc91"
      },
      "source": [
        "model = build_model(input_shape=(200, 200, 3))\n",
        "model.compile(optimizer = 'adam', loss='categorical_crossentropy' ,metrics = ['accuracy'])\n"
      ],
      "execution_count": 37,
      "outputs": [
        {
          "output_type": "stream",
          "text": [
            "Model: \"model_3\"\n",
            "_________________________________________________________________\n",
            "Layer (type)                 Output Shape              Param #   \n",
            "=================================================================\n",
            "input (InputLayer)           (None, 200, 200, 3)       0         \n",
            "_________________________________________________________________\n",
            "conv2 (Conv2D)               (None, 199, 199, 16)      208       \n",
            "_________________________________________________________________\n",
            "relu_2 (Activation)          (None, 199, 199, 16)      0         \n",
            "_________________________________________________________________\n",
            "pad2 (AveragePooling2D)      (None, 99, 99, 16)        0         \n",
            "_________________________________________________________________\n",
            "flatten_6 (Flatten)          (None, 156816)            0         \n",
            "_________________________________________________________________\n",
            "fc_1 (Dense)                 (None, 120)               18818040  \n",
            "_________________________________________________________________\n",
            "relu_3 (Activation)          (None, 120)               0         \n",
            "_________________________________________________________________\n",
            "fc_2 (Dense)                 (None, 84)                10164     \n",
            "_________________________________________________________________\n",
            "relu_4 (Activation)          (None, 84)                0         \n",
            "_________________________________________________________________\n",
            "softmax (Dense)              (None, 3)                 255       \n",
            "=================================================================\n",
            "Total params: 18,828,667\n",
            "Trainable params: 18,828,667\n",
            "Non-trainable params: 0\n",
            "_________________________________________________________________\n"
          ],
          "name": "stdout"
        }
      ]
    },
    {
      "cell_type": "code",
      "metadata": {
        "id": "2QmOK_SCVsoU",
        "colab": {
          "base_uri": "https://localhost:8080/"
        },
        "outputId": "308b24fe-3291-4dc1-f7e5-ead66206c05d"
      },
      "source": [
        "datagen = ImageDataGenerator(\n",
        "          rotation_range=45,\n",
        "          width_shift_range=0.2,\n",
        "          height_shift_range=0.2,\n",
        "          zoom_range=0.2,\n",
        "          horizontal_flip=True,\n",
        "          fill_mode='nearest')\n",
        "\n",
        "batch_size = 64\n",
        " \n",
        "H = model.fit_generator(datagen.flow(train_x, train_y, batch_size=batch_size),\n",
        "  validation_data=(test_x, test_y),                       \n",
        "\tsteps_per_epoch=len(train_y) // batch_size, epochs=16)"
      ],
      "execution_count": 38,
      "outputs": [
        {
          "output_type": "stream",
          "text": [
            "Epoch 1/16\n",
            "51/51 [==============================] - 28s 547ms/step - loss: 638.6788 - accuracy: 0.4149 - val_loss: 0.9334 - val_accuracy: 0.7967\n",
            "Epoch 2/16\n",
            "51/51 [==============================] - 25s 485ms/step - loss: 23.8980 - accuracy: 0.6309 - val_loss: 0.8668 - val_accuracy: 0.6423\n",
            "Epoch 3/16\n",
            "51/51 [==============================] - 25s 495ms/step - loss: 23.8553 - accuracy: 0.6426 - val_loss: 0.8033 - val_accuracy: 0.8076\n",
            "Epoch 4/16\n",
            "51/51 [==============================] - 25s 487ms/step - loss: 45.0792 - accuracy: 0.6327 - val_loss: 0.7541 - val_accuracy: 0.6802\n",
            "Epoch 5/16\n",
            "51/51 [==============================] - 25s 482ms/step - loss: 20.9321 - accuracy: 0.7508 - val_loss: 0.8006 - val_accuracy: 0.6125\n",
            "Epoch 6/16\n",
            "51/51 [==============================] - 25s 482ms/step - loss: 9.7593 - accuracy: 0.7902 - val_loss: 0.8461 - val_accuracy: 0.6152\n",
            "Epoch 7/16\n",
            "51/51 [==============================] - 24s 477ms/step - loss: 7.6957 - accuracy: 0.8068 - val_loss: 0.8739 - val_accuracy: 0.5176\n",
            "Epoch 8/16\n",
            "51/51 [==============================] - 24s 480ms/step - loss: 7.9949 - accuracy: 0.7958 - val_loss: 0.8999 - val_accuracy: 0.5610\n",
            "Epoch 9/16\n",
            "51/51 [==============================] - 25s 481ms/step - loss: 6.4657 - accuracy: 0.8148 - val_loss: 0.9567 - val_accuracy: 0.4905\n",
            "Epoch 10/16\n",
            "51/51 [==============================] - 25s 481ms/step - loss: 4.9855 - accuracy: 0.8311 - val_loss: 0.9390 - val_accuracy: 0.5528\n",
            "Epoch 11/16\n",
            "51/51 [==============================] - 24s 479ms/step - loss: 5.7194 - accuracy: 0.7994 - val_loss: 0.9485 - val_accuracy: 0.5691\n",
            "Epoch 12/16\n",
            "51/51 [==============================] - 25s 482ms/step - loss: 4.6947 - accuracy: 0.8287 - val_loss: 0.9648 - val_accuracy: 0.5501\n",
            "Epoch 13/16\n",
            "51/51 [==============================] - 25s 482ms/step - loss: 5.3003 - accuracy: 0.8124 - val_loss: 0.9790 - val_accuracy: 0.5501\n",
            "Epoch 14/16\n",
            "51/51 [==============================] - 24s 478ms/step - loss: 4.0960 - accuracy: 0.8250 - val_loss: 0.9794 - val_accuracy: 0.5827\n",
            "Epoch 15/16\n",
            "51/51 [==============================] - 24s 480ms/step - loss: 3.3317 - accuracy: 0.8338 - val_loss: 0.9968 - val_accuracy: 0.5556\n",
            "Epoch 16/16\n",
            "51/51 [==============================] - 25s 483ms/step - loss: 2.7137 - accuracy: 0.8281 - val_loss: 1.0184 - val_accuracy: 0.5203\n"
          ],
          "name": "stdout"
        }
      ]
    },
    {
      "cell_type": "code",
      "metadata": {
        "colab": {
          "base_uri": "https://localhost:8080/",
          "height": 590
        },
        "id": "Cz-X3pGTcRls",
        "outputId": "811285d4-5918-4139-b864-d94ff3ea5ea3"
      },
      "source": [
        "print(H.history.keys())\n",
        "#  \"Accuracy\"\n",
        "plt.plot(H.history['accuracy'])\n",
        "plt.plot(H.history['val_accuracy'])\n",
        "plt.title('model accuracy')\n",
        "plt.ylabel('accuracy')\n",
        "plt.xlabel('epoch')\n",
        "plt.legend(['train', 'validation'], loc='upper left')\n",
        "plt.show()\n",
        "# \"Loss\"\n",
        "plt.plot(H.history['loss'])\n",
        "plt.plot(H.history['val_loss'])\n",
        "plt.title('model loss')\n",
        "plt.ylabel('loss')\n",
        "plt.xlabel('epoch')\n",
        "plt.legend(['train', 'validation'], loc='upper left')\n",
        "plt.show()"
      ],
      "execution_count": 39,
      "outputs": [
        {
          "output_type": "stream",
          "text": [
            "dict_keys(['val_loss', 'val_accuracy', 'loss', 'accuracy'])\n"
          ],
          "name": "stdout"
        },
        {
          "output_type": "display_data",
          "data": {
            "image/png": "[encoded data removed]",
            "text/plain": [
              "<Figure size 432x288 with 1 Axes>"
            ]
          },
          "metadata": {
            "tags": [],
            "needs_background": "light"
          }
        },
        {
          "output_type": "display_data",
          "data": {
            "image/png": "[encoded data removed]",
            "text/plain": [
              "<Figure size 432x288 with 1 Axes>"
            ]
          },
          "metadata": {
            "tags": [],
            "needs_background": "light"
          }
        }
      ]
    },
    {
      "cell_type": "code",
      "metadata": {
        "colab": {
          "base_uri": "https://localhost:8080/",
          "height": 232
        },
        "id": "0C_dp_1Ob4z6",
        "outputId": "e48d9a45-9277-413b-f851-f4125e86ce99"
      },
      "source": [
        "sample = train_x[np.random.randint(len(train_x))]\n",
        "\n",
        "\n",
        "batch = np.expand_dims(sample, axis=0)\n",
        "prediction = model.predict(batch)\n",
        "print(   np.argmax(prediction[0])    )\n",
        "\n",
        "# sample_show = sample.reshape((28,28))\n",
        "plt.figure(figsize=(3,3))\n",
        "sample = sample[:,:,::-1]\n",
        "plt.imshow(sample)\n",
        "plt.show()"
      ],
      "execution_count": 44,
      "outputs": [
        {
          "output_type": "stream",
          "text": [
            "2\n"
          ],
          "name": "stdout"
        },
        {
          "output_type": "display_data",
          "data": {
            "image/png": "[encoded data removed]",
            "text/plain": [
              "<Figure size 216x216 with 1 Axes>"
            ]
          },
          "metadata": {
            "tags": [],
            "needs_background": "light"
          }
        }
      ]
    },
    {
      "cell_type": "code",
      "metadata": {
        "id": "4UkJ3h-rroMp"
      },
      "source": [
        "model.save(\"/content/drive/MyDrive/Colab Notebooks/Model.h5\")"
      ],
      "execution_count": 46,
      "outputs": []
    },
    {
      "cell_type": "code",
      "metadata": {
        "id": "oj3THz8jqH68"
      },
      "source": [
        "model.save_weights(\"/content/drive/MyDrive/Colab Notebooks/model_weights.h5\")\n"
      ],
      "execution_count": 47,
      "outputs": []
    }
  ]
}